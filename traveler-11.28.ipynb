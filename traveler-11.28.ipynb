{
 "cells": [
  {
   "cell_type": "code",
   "execution_count": 33,
   "metadata": {},
   "outputs": [
    {
     "data": {
      "text/plain": [
       "array(['Unnamed: 0', 'X', 'Year', 'Month', 'day', 'discount',\n",
       "       'Home_policy_ind', 'zip', 'state_id', 'county_name', 'Agent_cd',\n",
       "       'quoted_amt', 'Prior_carrier_grp', 'credit_score',\n",
       "       'Cov_package_type', 'CAT_zone', 'policy_id', 'number_drivers',\n",
       "       'num_loaned_veh', 'num_owned_veh', 'num_leased_veh',\n",
       "       'total_number_veh', 'convert_ind', 'split', 'primary_parking',\n",
       "       'season', 'avg_age_veh', 'avg_age_dv', 'living_status',\n",
       "       'high_education_ind', 'num_luxury_motor', 'luxury_motor', 'AL',\n",
       "       'CT', 'FL', 'GA', 'MN', 'NJ', 'NY', 'WI', 'Carrier_1', 'Carrier_2',\n",
       "       'Carrier_3', 'Carrier_4', 'Carrier_5', 'Carrier_6', 'Carrier_7',\n",
       "       'Carrier_8', 'Other', 'High', 'Low', 'Medium', 'other', 'own',\n",
       "       'rent', 1.0, 2.0, 3.0, 4.0, 5.0], dtype=object)"
      ]
     },
     "execution_count": 33,
     "metadata": {},
     "output_type": "execute_result"
    }
   ],
   "source": [
    "import pandas as pd\n",
    "import numpy as np\n",
    "from sklearn.tree import DecisionTreeClassifier, DecisionTreeRegressor\n",
    "from sklearn.metrics import accuracy_score, classification_report\n",
    "from sklearn.feature_selection import RFE\n",
    "from sklearn.linear_model import LogisticRegression, Lasso\n",
    "from sklearn.model_selection import train_test_split\n",
    "from sklearn.ensemble import RandomForestClassifier\n",
    "from sklearn.svm import SVC\n",
    "import statsmodels.api as sm\n",
    "import sys\n",
    "import matplotlib.pyplot as plt\n",
    "from matplotlib import *\n",
    "df=pd.read_csv('df_policies_3.csv') \n",
    "df.head()\n",
    "np.set_printoptions(threshold=sys.maxsize)\n",
    "pd.set_option('display.max_rows', 500)\n",
    "pd.set_option('display.max_columns', 500)\n",
    "pd.set_option('display.width', 1000)\n",
    "df.columns.values\n",
    "#df.dtypes\n",
    "#Processing the data\n",
    "# NA summary\n",
    "df.shape\n",
    "#检查缺失数据\n",
    "#df.isnull().sum().sort_values(ascending=False)\n",
    "df.head()\n",
    "\n",
    "# Get rid of NA and empty with mean\n",
    "df.credit_score =  df.credit_score.fillna(df.credit_score.mean())\n",
    "df.quoted_amt =  df.quoted_amt.fillna(df.credit_score.mean())\n",
    "#df.CAT_zone =  df.CAT_zone.fillna(df.credit_score.mean())\n",
    "#df.Cov_package_type =  df.Cov_package_type.fillna(df.credit_score.mean())\n",
    "df.avg_age_veh =  df.avg_age_veh.fillna(df.credit_score.mean())\n",
    "\n",
    "df = df.dropna(axis=0)\n",
    "# Create dummy variable \n",
    "#df['state_id'] = df['state_id'].astype('category').cat.codes\n",
    "#df['Prior_carrier_grp'] = df['Prior_carrier_grp'].astype('category').cat.codes\n",
    "#df['Cov_package_type'] = df['Cov_package_type'].astype('category').cat.codes\n",
    "#df['living_status'] = df['living_status'].astype('category').cat.codes\n",
    "df= df.join(pd.get_dummies(df['state_id']))\n",
    "df= df.join(pd.get_dummies(df['Prior_carrier_grp']))\n",
    "df= df.join(pd.get_dummies(df['Cov_package_type']))\n",
    "df= df.join(pd.get_dummies(df['living_status']))\n",
    "df= df.join(pd.get_dummies(df['CAT_zone']))\n",
    "df.quoted_amt = df['quoted_amt'].replace('\\$', '', regex=True).replace(',','', regex = True)\n",
    "\n",
    "df.discount = pd.Series(np.where(df.discount.values == 'Yes', 1, 0),df.index)\n",
    "df.Home_policy_ind = pd.Series(np.where(df.Home_policy_ind.values == 'Y', 1, 0),df.index)\n",
    "df.columns.values"
   ]
  },
  {
   "cell_type": "code",
   "execution_count": 3,
   "metadata": {},
   "outputs": [
    {
     "data": {
      "text/plain": [
       "0.0    25245\n",
       "1.0     3221\n",
       "Name: convert_ind, dtype: int64"
      ]
     },
     "execution_count": 3,
     "metadata": {},
     "output_type": "execute_result"
    }
   ],
   "source": [
    "# Get training data\n",
    "df_train = df[df.split == 'Train']\n",
    "df_test = df[df.split == 'Test']\n",
    "df_train.head()\n",
    "df_train['convert_ind'].value_counts()"
   ]
  },
  {
   "cell_type": "code",
   "execution_count": 3,
   "metadata": {},
   "outputs": [
    {
     "data": {
      "text/plain": [
       "<matplotlib.axes._subplots.AxesSubplot at 0x118296748>"
      ]
     },
     "execution_count": 3,
     "metadata": {},
     "output_type": "execute_result"
    },
    {
     "data": {
      "image/png": "[encoded data removed]",
      "text/plain": [
       "<Figure size 432x288 with 1 Axes>"
      ]
     },
     "metadata": {},
     "output_type": "display_data"
    }
   ],
   "source": [
    "%matplotlib inline \n",
    "#pd.crosstab(df.discount,df.convert_ind).plot(kind='bar') \n",
    "#plt.title('Purchase Frequency for discount')\n",
    "#plt.xlabel('Discount') \n",
    "#plt.ylabel('Frequency of Purchase')\n",
    "\n",
    "import seaborn as sns\n",
    "\n",
    "x, y, hue = \"discount\", \"proportion\", \"convert_ind\"\n",
    "hue_order = [\"0.0\", \"1.0\"]\n",
    "(df[x]\n",
    " .groupby(df[hue])\n",
    " .value_counts(normalize=True)\n",
    " .rename(y)\n",
    " .reset_index()\n",
    " .pipe((sns.barplot, \"data\"), x=x, y=y, hue=hue))\n",
    "\n",
    "\n"
   ]
  },
  {
   "cell_type": "code",
   "execution_count": 4,
   "metadata": {},
   "outputs": [
    {
     "data": {
      "image/png": "[encoded data removed]",
      "text/plain": [
       "<Figure size 432x288 with 1 Axes>"
      ]
     },
     "metadata": {},
     "output_type": "display_data"
    }
   ],
   "source": [
    "table=pd.crosstab(df_train.CAT_zone, df_train.convert_ind)\n",
    "table.div(table.sum(1).astype(float), axis=0).plot(kind='bar', stacked=True) \n",
    "plt.title('Stacked Bar Chart of CAT_zone vs Convert') \n",
    "plt.xlabel('Catastrophe risk zone') \n",
    "plt.ylabel('Proportion of convert')\n",
    "plt.savefig('Catastrophe risk zone_bar_chart')"
   ]
  },
  {
   "cell_type": "code",
   "execution_count": 5,
   "metadata": {},
   "outputs": [],
   "source": [
    "#vert some categorical data to dummies\n",
    "#df['state_id'] = df['state_id'].astype('category').cat.codes\n",
    "#df['season'] = df['season'].astype('category').cat.codes\n",
    "#df['living_status'] = df['living_status'].astype('category').cat.codes\n",
    "#df = pd.get_dummies(df)"
   ]
  },
  {
   "cell_type": "code",
   "execution_count": 6,
   "metadata": {},
   "outputs": [
    {
     "data": {
      "text/plain": [
       "<matplotlib.axes._subplots.AxesSubplot at 0x11827c668>"
      ]
     },
     "execution_count": 6,
     "metadata": {},
     "output_type": "execute_result"
    },
    {
     "data": {
      "image/png": "[encoded data removed]",
      "text/plain": [
       "<Figure size 432x288 with 1 Axes>"
      ]
     },
     "metadata": {},
     "output_type": "display_data"
    }
   ],
   "source": [
    "%matplotlib inline \n",
    "#pd.crosstab(df.discount,df.convert_ind).plot(kind='bar') \n",
    "#plt.title('Purchase Frequency for discount')\n",
    "#plt.xlabel('Discount') \n",
    "#plt.ylabel('Frequency of Purchase')\n",
    "\n",
    "import seaborn as sns\n",
    "\n",
    "x, y, hue = \"discount\", \"proportion\", \"convert_ind\"\n",
    "hue_order = [\"0.0\", \"1.0\"]\n",
    "(df[x]\n",
    " .groupby(df[hue])\n",
    " .value_counts(normalize=True)\n",
    " .rename(y)\n",
    " .reset_index()\n",
    " .pipe((sns.barplot, \"data\"), x=x, y=y, hue=hue))\n",
    "\n",
    "\n"
   ]
  },
  {
   "cell_type": "code",
   "execution_count": 7,
   "metadata": {},
   "outputs": [
    {
     "data": {
      "image/png": "[encoded data removed]",
      "text/plain": [
       "<Figure size 432x288 with 1 Axes>"
      ]
     },
     "metadata": {},
     "output_type": "display_data"
    }
   ],
   "source": [
    "# matplotlib histogram\n",
    "#plt.hist(df_train['credit_score'], color = 'steelblue', edgecolor = 'black''quoted_amt',\n",
    "       #  bins = int(180/5))\n",
    "  \n",
    "#df_subset=df_train[['credit_score', 'quoted_amt']]\n",
    "#num_bins=2\n",
    "#df_train[['credit_score']].hist(bin=num_bins,figsize=(20,15))\n",
    "#plt.savefig(\"df_subset_hisgram_plots\")\n",
    "import matplotlib.pyplot as plt\n",
    "from matplotlib.ticker import StrMethodFormatter\n",
    "\n",
    "#df_subset_1 = df_train['credit_score']\n",
    "df_train.hist(column='credit_score')\n",
    "plt.show()\n",
    "\n",
    "#df_train.head()"
   ]
  },
  {
   "cell_type": "code",
   "execution_count": 8,
   "metadata": {},
   "outputs": [],
   "source": [
    "#df_train.hist(column='quoted_amt')\n",
    "#plt.show()\n",
    "#df_train['quoted_amt'].hist()\n",
    "#df_train.quoted_amt.dtypes\n",
    "#plt.show()\n",
    "#pd.show_versions()"
   ]
  },
  {
   "cell_type": "code",
   "execution_count": 5,
   "metadata": {},
   "outputs": [],
   "source": [
    "Y_column = ['convert_ind']\n",
    "#X_column = ['Year','Month','discount', 'Home_policy_ind', 'zip', 'Agent_cd','quoted_amt', 'credit_score',\n",
    "     # 'Cov_package_type', 'CAT_zone', 'number_drivers','num_loaned_veh', 'num_owned_veh', 'num_leased_veh',\n",
    "    # 'total_number_veh',  'season', 'avg_age_veh', 'avg_age_dv', 'high_education_ind', 'num_luxury_motor', 'luxury_motor', 'AL',\n",
    "    #  'CT', 'FL', 'GA', 'MN', 'NJ', 'NY', 'WI', 'Carrier_1', 'Carrier_2','Carrier_3', 'Carrier_4', 'Carrier_5', 'Carrier_6', 'Carrier_7',\n",
    "    # 'Carrier_8', 'Other',  'High', 'Low', 'Medium', 'other', 'own', 'rent']\n",
    "X_column = ['Year','Month','zip','discount', 'quoted_amt', 'credit_score','CAT_zone', \n",
    "            'number_drivers','num_loaned_veh', 'num_owned_veh', 'num_leased_veh',\n",
    "            'total_number_veh',  'season', 'avg_age_veh', 'avg_age_dv', 'high_education_ind',\n",
    "           'num_luxury_motor', 'luxury_motor', 'AL', 'CT', 'FL', 'GA', 'MN', 'NJ', 'NY', 'WI', \n",
    "            'Carrier_1', 'Carrier_2','Carrier_3', 'Carrier_4', 'Carrier_5', 'Carrier_6', 'Carrier_7',\n",
    "            'Carrier_8', 'Other',  'High', 'Low', 'Medium', 'other', 'own', 'rent'\n",
    "           ]"
   ]
  },
  {
   "cell_type": "code",
   "execution_count": 6,
   "metadata": {},
   "outputs": [
    {
     "name": "stderr",
     "output_type": "stream",
     "text": [
      "/anaconda3/lib/python3.6/site-packages/sklearn/utils/validation.py:578: DataConversionWarning: A column-vector y was passed when a 1d array was expected. Please change the shape of y to (n_samples, ), for example using ravel().\n",
      "  y = column_or_1d(y, warn=True)\n"
     ]
    },
    {
     "name": "stdout",
     "output_type": "stream",
     "text": [
      "[False  True False  True False False  True  True False  True False False\n",
      "  True False False  True  True  True  True  True  True  True False  True\n",
      "  True  True  True  True  True  True  True  True  True  True False  True\n",
      "  True  True  True  True  True]\n",
      "[ 8  1 12  1 11  7  1  1  6  1  3  4  1 10  5  1  1  1  1  1  1  1  2  1\n",
      "  1  1  1  1  1  1  1  1  1  1  9  1  1  1  1  1  1]\n"
     ]
    }
   ],
   "source": [
    "#Feature Selection\n",
    "from sklearn.feature_selection import RFE \n",
    "from sklearn.linear_model import LogisticRegression \n",
    "model = LogisticRegression()\n",
    "\n",
    "rfe = RFE(model, 30) \n",
    "rfe = rfe.fit(df_train[X_column], df_train[Y_column]) \n",
    "print(rfe.support_)\n",
    "print(rfe.ranking_)"
   ]
  },
  {
   "cell_type": "code",
   "execution_count": 7,
   "metadata": {},
   "outputs": [
    {
     "name": "stderr",
     "output_type": "stream",
     "text": [
      "/anaconda3/lib/python3.6/site-packages/sklearn/utils/validation.py:578: DataConversionWarning: A column-vector y was passed when a 1d array was expected. Please change the shape of y to (n_samples, ), for example using ravel().\n",
      "  y = column_or_1d(y, warn=True)\n"
     ]
    },
    {
     "name": "stdout",
     "output_type": "stream",
     "text": [
      "logistic Accuracy:0.885\n"
     ]
    }
   ],
   "source": [
    "\n",
    "Y_train = df_train[Y_column]\n",
    "X_train = df_train[X_column]\n",
    "X_test_submit = df_test[X_column]\n",
    "Y_test_submit = df_test[Y_column]\n",
    "\n",
    "logreg = LogisticRegression(penalty = 'l1', C = 0.1) # l1 is Lasso. l2 is Ridge regression\n",
    "\n",
    "# Logistic Regression Model\n",
    "X_train_cv, X_test_cv, Y_train_cv, Y_test_cv = train_test_split(X_train,Y_train, test_size=0.3, random_state= 0)\n",
    "logreg = logreg.fit(X_train_cv,Y_train_cv)\n",
    "print('logistic Accuracy:{:.3f}'.format(accuracy_score(Y_test_cv,logreg.predict(X_test_cv))))\n",
    "#display('logistic Accuracy:{:.3f}'.format(accuracy_score(Y_test_cv,clf.predict(X_test_cv))))\n",
    "\n",
    "# Final predict\n",
    "#clf_submit = logreg.fit(X_train,Y_train)\n"
   ]
  },
  {
   "cell_type": "code",
   "execution_count": 30,
   "metadata": {},
   "outputs": [
    {
     "data": {
      "text/plain": [
       "['Year',\n",
       " 'Month',\n",
       " 'zip',\n",
       " 'discount',\n",
       " 'quoted_amt',\n",
       " 'credit_score',\n",
       " 'CAT_zone',\n",
       " 'number_drivers',\n",
       " 'num_loaned_veh',\n",
       " 'num_owned_veh',\n",
       " 'num_leased_veh',\n",
       " 'total_number_veh',\n",
       " 'season',\n",
       " 'avg_age_veh',\n",
       " 'avg_age_dv',\n",
       " 'high_education_ind',\n",
       " 'num_luxury_motor',\n",
       " 'luxury_motor',\n",
       " 'AL',\n",
       " 'CT',\n",
       " 'FL',\n",
       " 'GA',\n",
       " 'MN',\n",
       " 'NJ',\n",
       " 'NY',\n",
       " 'WI',\n",
       " 'Carrier_1',\n",
       " 'Carrier_2',\n",
       " 'Carrier_3',\n",
       " 'Carrier_4',\n",
       " 'Carrier_5',\n",
       " 'Carrier_6',\n",
       " 'Carrier_7',\n",
       " 'Carrier_8',\n",
       " 'Other',\n",
       " 'High',\n",
       " 'Low',\n",
       " 'Medium',\n",
       " 'other',\n",
       " 'own',\n",
       " 'rent']"
      ]
     },
     "execution_count": 30,
     "metadata": {},
     "output_type": "execute_result"
    }
   ],
   "source": [
    "list(X_train) "
   ]
  },
  {
   "cell_type": "code",
   "execution_count": 29,
   "metadata": {},
   "outputs": [
    {
     "data": {
      "text/plain": [
       "array([[-9.57405766e-04,  4.75668428e-03, -3.05361760e-06,\n",
       "         1.56674912e-01, -4.28686050e-05,  1.06826741e-03,\n",
       "        -1.16126023e-01, -2.44503077e-01,  8.87672511e-03,\n",
       "         1.77888589e-02, -1.96157757e-02,  1.30966293e-03,\n",
       "        -6.33585783e-03,  1.82634611e-04, -4.67038559e-03,\n",
       "         3.10669854e-01,  5.21180401e-02,  0.00000000e+00,\n",
       "         0.00000000e+00, -1.20393706e-02,  0.00000000e+00,\n",
       "         0.00000000e+00,  0.00000000e+00,  0.00000000e+00,\n",
       "         2.71957750e-01,  0.00000000e+00,  0.00000000e+00,\n",
       "        -3.48051551e-02,  1.89072950e-01, -2.00798884e-03,\n",
       "        -1.76235169e-01,  6.93010399e-02, -2.10482817e-01,\n",
       "         2.98103630e-01,  4.58076408e-02, -1.58690921e-01,\n",
       "         4.41037427e-02,  0.00000000e+00, -2.92146706e-01,\n",
       "         2.81400069e-02,  0.00000000e+00]])"
      ]
     },
     "execution_count": 29,
     "metadata": {},
     "output_type": "execute_result"
    }
   ],
   "source": [
    "logreg.coef_"
   ]
  },
  {
   "cell_type": "code",
   "execution_count": 12,
   "metadata": {},
   "outputs": [
    {
     "name": "stdout",
     "output_type": "stream",
     "text": [
      "logistic Accuracy:0.885\n"
     ]
    }
   ],
   "source": [
    "print('logistic Accuracy:{:.3f}'.format(accuracy_score(Y_test_cv,logreg.predict(X_test_cv))))"
   ]
  },
  {
   "cell_type": "code",
   "execution_count": 9,
   "metadata": {},
   "outputs": [
    {
     "name": "stderr",
     "output_type": "stream",
     "text": [
      "/anaconda3/lib/python3.6/site-packages/ipykernel_launcher.py:5: DataConversionWarning: A column-vector y was passed when a 1d array was expected. Please change the shape of y to (n_samples,), for example using ravel().\n",
      "  \"\"\"\n"
     ]
    },
    {
     "name": "stdout",
     "output_type": "stream",
     "text": [
      "Forest Accuracy:0.884\n"
     ]
    }
   ],
   "source": [
    "# Random forest\n",
    "\n",
    "from sklearn.ensemble import RandomForestClassifier\n",
    "rf = RandomForestClassifier()\n",
    "rf.fit(X_train_cv,Y_train_cv)\n",
    "print('Forest Accuracy:{:.3f}'.format(accuracy_score(Y_test_cv,rf.predict(X_test_cv))))\n",
    "\n",
    "\n"
   ]
  },
  {
   "cell_type": "code",
   "execution_count": 10,
   "metadata": {},
   "outputs": [
    {
     "name": "stderr",
     "output_type": "stream",
     "text": [
      "/anaconda3/lib/python3.6/site-packages/sklearn/utils/validation.py:578: DataConversionWarning: A column-vector y was passed when a 1d array was expected. Please change the shape of y to (n_samples, ), for example using ravel().\n",
      "  y = column_or_1d(y, warn=True)\n"
     ]
    },
    {
     "name": "stdout",
     "output_type": "stream",
     "text": [
      "Support vector machine accuracy: 0.885\n"
     ]
    }
   ],
   "source": [
    "#Support Vector Machine\\\n",
    "\n",
    "from sklearn.svm import SVC\n",
    "svc = SVC()\n",
    "svc.fit(X_train_cv,Y_train_cv)\n",
    "print('Support vector machine accuracy: {:.3f}'.format(accuracy_score(Y_test_cv, svc.predict(X_test_cv))))\n",
    "\n"
   ]
  },
  {
   "cell_type": "code",
   "execution_count": null,
   "metadata": {},
   "outputs": [],
   "source": [
    "# cross validation\n",
    "#from sklearn import model_selection\n",
    "#from sklearn.model_selection import cross_val_score\n",
    "#kfold=modle_select.KFold(n_splits=10,random_state=7)\n",
    "#modelCV=RandomForestClassifier()\n",
    "#scoring='accuracy'\n",
    "#results=model_selection.cross_val_score(modelCV,X_train_cv,Y_train_cv,cv=kfold,scoring=scoring)\n",
    "#print(\"10-fold cross validation average accuracy : %.3f\" % (results.mean()))"
   ]
  },
  {
   "cell_type": "code",
   "execution_count": 16,
   "metadata": {},
   "outputs": [
    {
     "name": "stdout",
     "output_type": "stream",
     "text": [
      "             precision    recall  f1-score   support\n",
      "\n",
      "        0.0       0.89      1.00      0.94      7559\n",
      "        1.0       0.29      0.01      0.01       981\n",
      "\n",
      "avg / total       0.82      0.88      0.83      8540\n",
      "\n"
     ]
    }
   ],
   "source": [
    "# precision and recall: We construct confusion matrix to visualize predictions made \n",
    "#by a classifier and evalueate the accuracy of a classfication.\n",
    "# random forest\n",
    "from sklearn.metrics import classification_report\n",
    "print(classification_report(Y_test_cv,rf.predict(X_test_cv)))\n"
   ]
  },
  {
   "cell_type": "code",
   "execution_count": 17,
   "metadata": {},
   "outputs": [
    {
     "data": {
      "image/png": "[encoded data removed]",
      "text/plain": [
       "<Figure size 432x288 with 2 Axes>"
      ]
     },
     "metadata": {},
     "output_type": "display_data"
    }
   ],
   "source": [
    "rf_y_pred = rf.predict(X_test_cv) \n",
    "from sklearn.metrics import confusion_matrix \n",
    "import seaborn as sns\n",
    "import sklearn.metrics as metrics\n",
    "forest_cm = metrics.confusion_matrix(rf_y_pred,Y_test_cv, [1,0])\n",
    "sns.heatmap(forest_cm, annot=True, fmt='.2f',xticklabels = \n",
    "[\"Convert\", \"NoConvert\"] , yticklabels = [\"Convert\", \"NoConvert\"] ) \n",
    "plt.ylabel('True class') \n",
    "plt.xlabel('Predicted class') \n",
    "plt.title('Random Forest') \n",
    "plt.savefig('random_forest')"
   ]
  },
  {
   "cell_type": "code",
   "execution_count": 18,
   "metadata": {},
   "outputs": [
    {
     "name": "stdout",
     "output_type": "stream",
     "text": [
      "             precision    recall  f1-score   support\n",
      "\n",
      "        0.0       0.89      1.00      0.94      7559\n",
      "        1.0       0.00      0.00      0.00       981\n",
      "\n",
      "avg / total       0.78      0.89      0.83      8540\n",
      "\n"
     ]
    },
    {
     "name": "stderr",
     "output_type": "stream",
     "text": [
      "/anaconda3/lib/python3.6/site-packages/sklearn/metrics/classification.py:1135: UndefinedMetricWarning: Precision and F-score are ill-defined and being set to 0.0 in labels with no predicted samples.\n",
      "  'precision', 'predicted', average, warn_for)\n"
     ]
    }
   ],
   "source": [
    "#logistic Regression\n",
    "print(classification_report(Y_test_cv, logreg.predict(X_test_cv)))"
   ]
  },
  {
   "cell_type": "code",
   "execution_count": 19,
   "metadata": {},
   "outputs": [
    {
     "data": {
      "image/png": "[encoded data removed]",
      "text/plain": [
       "<Figure size 432x288 with 2 Axes>"
      ]
     },
     "metadata": {},
     "output_type": "display_data"
    }
   ],
   "source": [
    "logreg_y_pred = logreg.predict(X_test_cv)\n",
    "logreg_cm = metrics.confusion_matrix(logreg_y_pred, Y_test_cv, [1,0]) \n",
    "sns.heatmap(logreg_cm, annot=True, fmt='.2f',xticklabels =\n",
    "[\"Convert\", \"NotConvert\"] , yticklabels = [\"Convert\", \"NotConvert\"] ) \n",
    "plt.ylabel('True class') \n",
    "plt.xlabel('Predicted class') \n",
    "plt.title('Logistic Regression') \n",
    "plt.savefig('logistic_regression')"
   ]
  },
  {
   "cell_type": "code",
   "execution_count": 28,
   "metadata": {},
   "outputs": [
    {
     "name": "stdout",
     "output_type": "stream",
     "text": [
      "             precision    recall  f1-score   support\n",
      "\n",
      "        0.0       0.89      1.00      0.94      7559\n",
      "        1.0       0.00      0.00      0.00       981\n",
      "\n",
      "avg / total       0.78      0.89      0.83      8540\n",
      "\n"
     ]
    },
    {
     "name": "stderr",
     "output_type": "stream",
     "text": [
      "/Users/clarawang/anaconda3/lib/python3.6/site-packages/sklearn/metrics/classification.py:1135: UndefinedMetricWarning: Precision and F-score are ill-defined and being set to 0.0 in labels with no predicted samples.\n",
      "  'precision', 'predicted', average, warn_for)\n"
     ]
    }
   ],
   "source": [
    "#support Vector Machine\n",
    "print(classification_report(Y_test_cv, svc.predict(X_test_cv)))"
   ]
  },
  {
   "cell_type": "code",
   "execution_count": 33,
   "metadata": {},
   "outputs": [
    {
     "data": {
      "image/png": "[encoded data removed]",
      "text/plain": [
       "<Figure size 432x288 with 2 Axes>"
      ]
     },
     "metadata": {},
     "output_type": "display_data"
    }
   ],
   "source": [
    "svc_y_pred = svc.predict(X_test_cv) \n",
    "svc_cm = metrics.confusion_matrix(svc_y_pred, Y_test_cv, [1,0])\n",
    "sns.heatmap(svc_cm, annot=True, fmt='.2f',xticklabels = \n",
    "[\"Convert\", \"NoConvert\"] , yticklabels = [\"Convert\", \"NoConvert\"] ) \n",
    "plt.ylabel('True class') \n",
    "plt.xlabel('Predicted class') \n",
    "plt.title('Support Vector Machine') \n",
    "plt.savefig('support_vector_machine')\n"
   ]
  },
  {
   "cell_type": "code",
   "execution_count": 36,
   "metadata": {},
   "outputs": [
    {
     "ename": "SyntaxError",
     "evalue": "EOL while scanning string literal (<ipython-input-36-227204fdbbe1>, line 16)",
     "output_type": "error",
     "traceback": [
      "\u001b[0;36m  File \u001b[0;32m\"<ipython-input-36-227204fdbbe1>\"\u001b[0;36m, line \u001b[0;32m16\u001b[0m\n\u001b[0;31m    plt.plot(fpr, tpr, label='Logistic Regression (area =\u001b[0m\n\u001b[0m                                                          ^\u001b[0m\n\u001b[0;31mSyntaxError\u001b[0m\u001b[0;31m:\u001b[0m EOL while scanning string literal\n"
     ]
    }
   ],
   "source": [
    "#The ROC Curve\n",
    "\n",
    "from sklearn.metrics import roc_auc_score \n",
    "from sklearn.metrics import roc_curve\n",
    "\n",
    "logit_roc_auc = roc_auc_score(y_test, \n",
    "logreg.predict(X_test)) \n",
    "fpr, tpr, thresholds = roc_curve(y_test, \n",
    "logreg.predict_proba(X_test)[:,1])\n",
    "\n",
    "rf_roc_auc = roc_auc_score(y_test, rf.predict(X_test)) \n",
    "rf_fpr, rf_tpr, rf_thresholds = roc_curve(y_test,\n",
    "rf.predict_proba(X_test)[:,1])\n",
    "\n",
    "plt.figure()\n",
    "plt.plot(fpr, tpr, label='Logistic Regression (area = \n",
    "%0.2f)' % logit_roc_auc) \n",
    "plt.plot(rf_fpr, rf_tpr, label='Random Forest (area = \n",
    "%0.2f)' % rf_roc_auc) \n",
    "plt.plot([0, 1], [0, 1],'r--') \n",
    "plt.xlim([0.0, 1.0]) \n",
    "plt.ylim([0.0, 1.05]) \n",
    "plt.xlabel('False Positive Rate') \n",
    "plt.ylabel('True Positive Rate') \n",
    "plt.title('Receiver operating characteristic') \n",
    "plt.legend(loc=\"lower right\")\n",
    "plt.savefig('ROC') \n",
    "plt.show()"
   ]
  },
  {
   "cell_type": "code",
   "execution_count": null,
   "metadata": {},
   "outputs": [],
   "source": [
    "\n",
    "#feature imporance for random forest model\n",
    "feature_labels = np.array(['Year','Month','zip','discount', 'quoted_amt', 'credit_score','CAT_zone', \n",
    "            'number_drivers','num_loaned_veh', 'num_owned_veh', 'num_leased_veh',\n",
    "            'total_number_veh',  'season', 'avg_age_veh', 'avg_age_dv', 'high_education_ind',\n",
    "           'num_luxury_motor', 'luxury_motor', 'AL', 'CT', 'FL', 'GA', 'MN', 'NJ', 'NY', 'WI', 'Carrier_1', 'Carrier_2','Carrier_3', 'Carrier_4', 'Carrier_5', 'Carrier_6', 'Carrier_7',\n",
    "    'Carrier_8', 'Other',  'High', 'Low', 'Medium', 'other', 'own', 'rent'])\n",
    "importance = rf.feature_importances_ \n",
    "feature_indexes_by_importance = importance.argsort() \n",
    "for index in feature_indexes_by_importance:\n",
    "    print('{}-{:.2f}%'.format(feature_labels[index], \n",
    "(importance[index] *100.0)))\n",
    "plt.plot(feature_indexes_by_importance)"
   ]
  },
  {
   "cell_type": "code",
   "execution_count": null,
   "metadata": {},
   "outputs": [],
   "source": [
    "x_train_cv"
   ]
  },
  {
   "cell_type": "code",
   "execution_count": null,
   "metadata": {},
   "outputs": [],
   "source": [
    "import pandas as pd\n",
    "from sklearn.ensemble import RandomForestClassifier\n",
    "%matplotlib inline           \n",
    "\n",
    "X = X[['Year','Month','zip','discount', 'quoted_amt', 'credit_score','CAT_zone', \n",
    "            'number_drivers','num_loaned_veh', 'num_owned_veh', 'num_leased_veh',\n",
    "            'total_number_veh',  'season', 'avg_age_veh', 'avg_age_dv', 'high_education_ind',\n",
    "           'num_luxury_motor', 'luxury_motor','convert_ind']].dropna()\n",
    "y = X.pop('convert_ind')\n",
    "\n",
    "model = RandomForestClassifier()\n",
    "model.fit(X_train_cv, Y_train_cv)\n",
    "\n",
    "(pd.Series(model.feature_importances_, index=X.columns)\n",
    "   .nlargest(4)\n",
    "   .plot(kind='barh')) \n",
    "print(X.columns)"
   ]
  },
  {
   "cell_type": "code",
   "execution_count": 28,
   "metadata": {},
   "outputs": [
    {
     "data": {
      "text/plain": [
       "981.0"
      ]
     },
     "execution_count": 28,
     "metadata": {},
     "output_type": "execute_result"
    }
   ],
   "source": [
    "sum(Y_test_cv[\"convert_ind\"])\n"
   ]
  },
  {
   "cell_type": "code",
   "execution_count": null,
   "metadata": {},
   "outputs": [],
   "source": []
  }
 ],
 "metadata": {
  "kernelspec": {
   "display_name": "Python 3",
   "language": "python",
   "name": "python3"
  },
  "language_info": {
   "codemirror_mode": {
    "name": "ipython",
    "version": 3
   },
   "file_extension": ".py",
   "mimetype": "text/x-python",
   "name": "python",
   "nbconvert_exporter": "python",
   "pygments_lexer": "ipython3",
   "version": "3.6.5"
  },
  "toc": {
   "base_numbering": 1,
   "nav_menu": {},
   "number_sections": true,
   "sideBar": true,
   "skip_h1_title": false,
   "title_cell": "Table of Contents",
   "title_sidebar": "Contents",
   "toc_cell": false,
   "toc_position": {},
   "toc_section_display": true,
   "toc_window_display": false
  }
 },
 "nbformat": 4,
 "nbformat_minor": 2
}
